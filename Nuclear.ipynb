{
 "cells": [
  {
   "cell_type": "code",
   "execution_count": 4,
   "metadata": {},
   "outputs": [
    {
     "name": "stdout",
     "output_type": "stream",
     "text": [
      "Households served: 352000.0\n"
     ]
    }
   ],
   "source": [
    "K = 10**3\n",
    "M = 10**6\n",
    "# Typical apartment heating requirement 1 kW \n",
    "heating_watts = 1 * K\n",
    "# Chinese pool-type reactor 440MW\n",
    "thermal_watts = 440 * M\n",
    "# Typical losses in distribution are about 20%\n",
    "eff_factor = .8\n",
    "# how many apartments we can service\n",
    "households_served = thermal_watts * eff_factor / heating_watts\n",
    "print(f\"Households served: {households_served}\")"
   ]
  },
  {
   "cell_type": "code",
   "execution_count": null,
   "metadata": {},
   "outputs": [],
   "source": []
  },
  {
   "cell_type": "code",
   "execution_count": null,
   "metadata": {},
   "outputs": [],
   "source": []
  },
  {
   "cell_type": "code",
   "execution_count": null,
   "metadata": {},
   "outputs": [],
   "source": []
  }
 ],
 "metadata": {
  "kernelspec": {
   "display_name": "Python 3",
   "language": "python",
   "name": "python3"
  },
  "language_info": {
   "codemirror_mode": {
    "name": "ipython",
    "version": 3
   },
   "file_extension": ".py",
   "mimetype": "text/x-python",
   "name": "python",
   "nbconvert_exporter": "python",
   "pygments_lexer": "ipython3",
   "version": "3.8.2"
  }
 },
 "nbformat": 4,
 "nbformat_minor": 4
}
