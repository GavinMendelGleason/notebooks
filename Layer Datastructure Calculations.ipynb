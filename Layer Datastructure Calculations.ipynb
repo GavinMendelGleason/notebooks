{
 "cells": [
  {
   "cell_type": "code",
   "execution_count": 2,
   "metadata": {},
   "outputs": [],
   "source": [
    "import math"
   ]
  },
  {
   "cell_type": "code",
   "execution_count": 3,
   "metadata": {},
   "outputs": [
    {
     "name": "stdout",
     "output_type": "stream",
     "text": [
      "MB required: 29.897352853986263\n"
     ]
    }
   ],
   "source": [
    "# Space calculation for Bloom Filter\n",
    "# \n",
    "# Let's take 10% chance of false positive \n",
    "# - on import searches are almost all negative\n",
    "# - this should give us an almost 10 fold speed \n",
    "#   decrease in the search time (minus hashing / \n",
    "#   array access cost)\n",
    "epsilon = .1\n",
    "one_over_epsilon = 1/ epsilon\n",
    "# Bits per element\n",
    "bits = 1.44 * math.log(one_over_epsilon, 2)\n",
    "M = 10 ** 6 \n",
    "# Let's assume 50 million triples\n",
    "triples = 50 * M \n",
    "mega_bytes = bits * triples / 8 / M\n",
    "print(f\"MB required: {mega_bytes}\")"
   ]
  },
  {
   "cell_type": "code",
   "execution_count": null,
   "metadata": {},
   "outputs": [],
   "source": []
  }
 ],
 "metadata": {
  "kernelspec": {
   "display_name": "Python 3",
   "language": "python",
   "name": "python3"
  },
  "language_info": {
   "codemirror_mode": {
    "name": "ipython",
    "version": 3
   },
   "file_extension": ".py",
   "mimetype": "text/x-python",
   "name": "python",
   "nbconvert_exporter": "python",
   "pygments_lexer": "ipython3",
   "version": "3.8.2"
  }
 },
 "nbformat": 4,
 "nbformat_minor": 4
}
