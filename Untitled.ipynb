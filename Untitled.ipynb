{
 "cells": [
  {
   "cell_type": "code",
   "execution_count": 7,
   "metadata": {},
   "outputs": [],
   "source": [
    "import matplotlib.pyplot as plt"
   ]
  },
  {
   "cell_type": "code",
   "execution_count": 49,
   "metadata": {},
   "outputs": [],
   "source": [
    "times = [28.27999186515808, 45.44289183616638, 41.69682264328003, 44.72572946548462,\n",
    "46.329673051834106, 48.41069960594177, 55.0767605304718, 69.92799544334412, 55.04897737503052,\n",
    "58.78284168243408, 59.028226137161255, 66.05263543128967, 65.41132402420044, 63.36672043800354,\n",
    "66.40759110450745,67.9006416797638,71.86869287490845,72.37607169151306, 75.42927050590515, \n",
    "77.27869939804077,84.1178572177887,82.47803282737732,88.25187277793884,93.99957346916199,\n",
    "85.54253506660461,86.59045839309692, 86.69914436340332, 99.51760077476501,97.20010876655579,\n",
    "94.90242171287537,104.17370367050171]\n",
    "\n"
   ]
  },
  {
   "cell_type": "code",
   "execution_count": 50,
   "metadata": {},
   "outputs": [],
   "source": [
    "nums = [num * .1 for num in range(0,len(times))]"
   ]
  },
  {
   "cell_type": "code",
   "execution_count": 51,
   "metadata": {},
   "outputs": [
    {
     "data": {
      "image/png": "[encoded data removed]",
      "text/plain": [
       "<Figure size 432x288 with 1 Axes>"
      ]
     },
     "metadata": {
      "needs_background": "light"
     },
     "output_type": "display_data"
    }
   ],
   "source": [
    "plt.plot(nums, times, 'bo')\n",
    "plt.xlabel(\"Triples (Millions)\")\n",
    "plt.ylabel(\"Time (seconds)\")\n",
    "plt.show()"
   ]
  },
  {
   "cell_type": "code",
   "execution_count": null,
   "metadata": {},
   "outputs": [],
   "source": []
  },
  {
   "cell_type": "code",
   "execution_count": null,
   "metadata": {},
   "outputs": [],
   "source": []
  }
 ],
 "metadata": {
  "kernelspec": {
   "display_name": "Python 3",
   "language": "python",
   "name": "python3"
  },
  "language_info": {
   "codemirror_mode": {
    "name": "ipython",
    "version": 3
   },
   "file_extension": ".py",
   "mimetype": "text/x-python",
   "name": "python",
   "nbconvert_exporter": "python",
   "pygments_lexer": "ipython3",
   "version": "3.8.2"
  }
 },
 "nbformat": 4,
 "nbformat_minor": 4
}
